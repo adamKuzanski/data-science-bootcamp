{
  "nbformat": 4,
  "nbformat_minor": 0,
  "metadata": {
    "colab": {
      "name": "Intro.ipynb",
      "provenance": [],
      "collapsed_sections": [],
      "toc_visible": true,
      "authorship_tag": "ABX9TyNOgnMHhRVQd/aadB014own",
      "include_colab_link": true
    },
    "kernelspec": {
      "name": "python3",
      "display_name": "Python 3"
    }
  },
  "cells": [
    {
      "cell_type": "markdown",
      "metadata": {
        "id": "view-in-github",
        "colab_type": "text"
      },
      "source": [
        "<a href=\"https://colab.research.google.com/github/adamKuzanski/data-science-bootcamp/blob/master/01_wprowadzenie/01_numpy_Intro.ipynb\" target=\"_parent\"><img src=\"https://colab.research.google.com/assets/colab-badge.svg\" alt=\"Open In Colab\"/></a>"
      ]
    },
    {
      "cell_type": "code",
      "metadata": {
        "id": "00M5CSD4V9P7",
        "colab_type": "code",
        "colab": {}
      },
      "source": [
        "import numpy as np\n"
      ],
      "execution_count": 0,
      "outputs": []
    },
    {
      "cell_type": "markdown",
      "metadata": {
        "id": "Rk7IA6IQZrV0",
        "colab_type": "text"
      },
      "source": [
        "**1D array**"
      ]
    },
    {
      "cell_type": "code",
      "metadata": {
        "id": "u2qYMJGUZt7q",
        "colab_type": "code",
        "colab": {
          "base_uri": "https://localhost:8080/",
          "height": 119
        },
        "outputId": "e1246b75-708f-4607-ac4c-d8b84b525e71"
      },
      "source": [
        "x = np.array([1, 3])\n",
        "print(x)\n",
        "print(type(x))\n",
        "print(x.ndim)\n",
        "print(x.shape)\n",
        "print(x.size)\n",
        "print(x.dtype)"
      ],
      "execution_count": 9,
      "outputs": [
        {
          "output_type": "stream",
          "text": [
            "[1 3]\n",
            "<class 'numpy.ndarray'>\n",
            "1\n",
            "(2,)\n",
            "2\n",
            "int64\n"
          ],
          "name": "stdout"
        }
      ]
    },
    {
      "cell_type": "code",
      "metadata": {
        "id": "X7i3_P8daJbT",
        "colab_type": "code",
        "colab": {
          "base_uri": "https://localhost:8080/",
          "height": 34
        },
        "outputId": "cf25a9f3-9661-4847-ac05-0f992a89a6fb"
      },
      "source": [
        "x = np.array([1.3, 2.3, 1.4])\n",
        "x.dtype"
      ],
      "execution_count": 10,
      "outputs": [
        {
          "output_type": "execute_result",
          "data": {
            "text/plain": [
              "dtype('float64')"
            ]
          },
          "metadata": {
            "tags": []
          },
          "execution_count": 10
        }
      ]
    },
    {
      "cell_type": "markdown",
      "metadata": {
        "id": "1vr1A_ywaRca",
        "colab_type": "text"
      },
      "source": [
        "2D **Array**"
      ]
    },
    {
      "cell_type": "code",
      "metadata": {
        "id": "eRzcJ9p2aPzk",
        "colab_type": "code",
        "colab": {
          "base_uri": "https://localhost:8080/",
          "height": 51
        },
        "outputId": "ee869e21-fa02-47e4-be0c-82320672b780"
      },
      "source": [
        "y = np.array([[1,2,3], [-3,-1,-1]])\n",
        "y"
      ],
      "execution_count": 14,
      "outputs": [
        {
          "output_type": "execute_result",
          "data": {
            "text/plain": [
              "array([[ 1,  2,  3],\n",
              "       [-3, -1, -1]])"
            ]
          },
          "metadata": {
            "tags": []
          },
          "execution_count": 14
        }
      ]
    },
    {
      "cell_type": "code",
      "metadata": {
        "id": "elU4tzQ4acNH",
        "colab_type": "code",
        "colab": {
          "base_uri": "https://localhost:8080/",
          "height": 34
        },
        "outputId": "f1ca7c07-c897-416a-ed37-6b080f92a323"
      },
      "source": [
        "y.shape"
      ],
      "execution_count": 17,
      "outputs": [
        {
          "output_type": "execute_result",
          "data": {
            "text/plain": [
              "(2, 3)"
            ]
          },
          "metadata": {
            "tags": []
          },
          "execution_count": 17
        }
      ]
    },
    {
      "cell_type": "markdown",
      "metadata": {
        "id": "Bt-FTY5bav-N",
        "colab_type": "text"
      },
      "source": [
        "**3D Array**"
      ]
    },
    {
      "cell_type": "code",
      "metadata": {
        "id": "BKR8luJXazKH",
        "colab_type": "code",
        "colab": {
          "base_uri": "https://localhost:8080/",
          "height": 34
        },
        "outputId": "b4f8009e-af10-419b-b57e-1a5229c92d7d"
      },
      "source": [
        "x = np.array( \n",
        "    [\n",
        "     [[1,2,4], [4,2,1]], \n",
        "      [[1,2,3], [9,9,9]] \n",
        "     ] \n",
        "    )\n",
        "\n",
        "print(x.ndim)\n",
        "print(x.shape)"
      ],
      "execution_count": 22,
      "outputs": [
        {
          "output_type": "execute_result",
          "data": {
            "text/plain": [
              "(2, 2, 3)"
            ]
          },
          "metadata": {
            "tags": []
          },
          "execution_count": 22
        }
      ]
    },
    {
      "cell_type": "markdown",
      "metadata": {
        "id": "N7Khv7WVbwWj",
        "colab_type": "text"
      },
      "source": [
        "**Typy danych**"
      ]
    },
    {
      "cell_type": "code",
      "metadata": {
        "id": "wgfaPVg9bz2s",
        "colab_type": "code",
        "colab": {
          "base_uri": "https://localhost:8080/",
          "height": 119
        },
        "outputId": "ad57b195-d2a8-4054-d034-79b4b2a41688"
      },
      "source": [
        "A = np.array([1, 2, 3], dtype='float')\n",
        "print(A.dtype)\n",
        "\n",
        "A = np.array([1, 2, 3], dtype='complex')\n",
        "print(A.dtype)\n",
        "\n",
        "A = np.array([1.0, 2.2, 3.6], dtype='int')\n",
        "print(A.dtype)\n",
        "print(A)\n",
        "\n",
        "A = np.array([True, False, False], dtype='bool')\n",
        "print(A.dtype)\n",
        "\n",
        "A = np.array([24,120,230], dtype=np.uint)\n",
        "print(A.dtype)"
      ],
      "execution_count": 26,
      "outputs": [
        {
          "output_type": "stream",
          "text": [
            "float64\n",
            "complex128\n",
            "int64\n",
            "[1 2 3]\n",
            "bool\n",
            "uint64\n"
          ],
          "name": "stdout"
        }
      ]
    },
    {
      "cell_type": "markdown",
      "metadata": {
        "id": "NdJtWN9rcp9Y",
        "colab_type": "text"
      },
      "source": [
        "**Tworzenie Tablic**"
      ]
    },
    {
      "cell_type": "code",
      "metadata": {
        "id": "5Nr1slRbcsJn",
        "colab_type": "code",
        "colab": {
          "base_uri": "https://localhost:8080/",
          "height": 136
        },
        "outputId": "1bc2199b-86db-4c53-ac41-9588c10c1f15"
      },
      "source": [
        "np.zeros(shape=(2, 3, 4), dtype='int')"
      ],
      "execution_count": 35,
      "outputs": [
        {
          "output_type": "execute_result",
          "data": {
            "text/plain": [
              "array([[[0, 0, 0, 0],\n",
              "        [0, 0, 0, 0],\n",
              "        [0, 0, 0, 0]],\n",
              "\n",
              "       [[0, 0, 0, 0],\n",
              "        [0, 0, 0, 0],\n",
              "        [0, 0, 0, 0]]])"
            ]
          },
          "metadata": {
            "tags": []
          },
          "execution_count": 35
        }
      ]
    },
    {
      "cell_type": "code",
      "metadata": {
        "id": "HK5CDBy9dFOv",
        "colab_type": "code",
        "colab": {
          "base_uri": "https://localhost:8080/",
          "height": 102
        },
        "outputId": "d593bdb1-3758-423a-a810-47115a311cf1"
      },
      "source": [
        "np.ones(shape=(5,5), dtype='int')"
      ],
      "execution_count": 36,
      "outputs": [
        {
          "output_type": "execute_result",
          "data": {
            "text/plain": [
              "array([[1, 1, 1, 1, 1],\n",
              "       [1, 1, 1, 1, 1],\n",
              "       [1, 1, 1, 1, 1],\n",
              "       [1, 1, 1, 1, 1],\n",
              "       [1, 1, 1, 1, 1]])"
            ]
          },
          "metadata": {
            "tags": []
          },
          "execution_count": 36
        }
      ]
    },
    {
      "cell_type": "code",
      "metadata": {
        "id": "0INo6x9sdMEu",
        "colab_type": "code",
        "colab": {
          "base_uri": "https://localhost:8080/",
          "height": 85
        },
        "outputId": "314d1fad-0ca5-420d-b529-1fbe4526ed9f"
      },
      "source": [
        "np.full(shape=(4,4), fill_value=5, dtype='int')"
      ],
      "execution_count": 37,
      "outputs": [
        {
          "output_type": "execute_result",
          "data": {
            "text/plain": [
              "array([[5, 5, 5, 5],\n",
              "       [5, 5, 5, 5],\n",
              "       [5, 5, 5, 5],\n",
              "       [5, 5, 5, 5]])"
            ]
          },
          "metadata": {
            "tags": []
          },
          "execution_count": 37
        }
      ]
    },
    {
      "cell_type": "code",
      "metadata": {
        "id": "Y2uJi5N4dT6o",
        "colab_type": "code",
        "colab": {
          "base_uri": "https://localhost:8080/",
          "height": 34
        },
        "outputId": "ce78071c-bb59-4bc5-a28d-960ceb39db8e"
      },
      "source": [
        "np.arange(10)"
      ],
      "execution_count": 38,
      "outputs": [
        {
          "output_type": "execute_result",
          "data": {
            "text/plain": [
              "array([0, 1, 2, 3, 4, 5, 6, 7, 8, 9])"
            ]
          },
          "metadata": {
            "tags": []
          },
          "execution_count": 38
        }
      ]
    },
    {
      "cell_type": "code",
      "metadata": {
        "id": "alUFE_yFdXvU",
        "colab_type": "code",
        "colab": {
          "base_uri": "https://localhost:8080/",
          "height": 34
        },
        "outputId": "f30a129d-3196-498a-e6e5-943325c3f3ef"
      },
      "source": [
        "np.arange(start=10, stop=100, step=0.05)"
      ],
      "execution_count": 44,
      "outputs": [
        {
          "output_type": "execute_result",
          "data": {
            "text/plain": [
              "array([10.  , 10.05, 10.1 , ..., 99.85, 99.9 , 99.95])"
            ]
          },
          "metadata": {
            "tags": []
          },
          "execution_count": 44
        }
      ]
    },
    {
      "cell_type": "code",
      "metadata": {
        "id": "_SrLbns4dvDm",
        "colab_type": "code",
        "colab": {
          "base_uri": "https://localhost:8080/",
          "height": 51
        },
        "outputId": "f9878917-4208-4d6a-aa50-f82bd29e7228"
      },
      "source": [
        "np.linspace(start=0, stop=1, num=10)"
      ],
      "execution_count": 45,
      "outputs": [
        {
          "output_type": "execute_result",
          "data": {
            "text/plain": [
              "array([0.        , 0.11111111, 0.22222222, 0.33333333, 0.44444444,\n",
              "       0.55555556, 0.66666667, 0.77777778, 0.88888889, 1.        ])"
            ]
          },
          "metadata": {
            "tags": []
          },
          "execution_count": 45
        }
      ]
    },
    {
      "cell_type": "code",
      "metadata": {
        "id": "8B3Hr9fyl1n2",
        "colab_type": "code",
        "colab": {
          "base_uri": "https://localhost:8080/",
          "height": 68
        },
        "outputId": "f7aee78e-c768-4657-b8c5-ef946bf8436f"
      },
      "source": [
        "A = np.arange(15)\n",
        "# A = A.reshape((3,5))\n",
        "A = A.reshape((3, -1))\n",
        "A"
      ],
      "execution_count": 53,
      "outputs": [
        {
          "output_type": "execute_result",
          "data": {
            "text/plain": [
              "array([[ 0,  1,  2,  3,  4],\n",
              "       [ 5,  6,  7,  8,  9],\n",
              "       [10, 11, 12, 13, 14]])"
            ]
          },
          "metadata": {
            "tags": []
          },
          "execution_count": 53
        }
      ]
    },
    {
      "cell_type": "markdown",
      "metadata": {
        "id": "wpvAidjpmVyD",
        "colab_type": "text"
      },
      "source": [
        "**Działania na tablicach**"
      ]
    },
    {
      "cell_type": "code",
      "metadata": {
        "id": "mN30_rWfmdjI",
        "colab_type": "code",
        "colab": {
          "base_uri": "https://localhost:8080/",
          "height": 51
        },
        "outputId": "4e270c94-f3ed-4104-90da-f1c923cd60a0"
      },
      "source": [
        "A = np.array([3, 1, 4, 2])\n",
        "B = np.array([3, -1, 3, 2])\n",
        "print(A)\n",
        "print(B)"
      ],
      "execution_count": 55,
      "outputs": [
        {
          "output_type": "stream",
          "text": [
            "[3 1 4 2]\n",
            "[ 3 -1  3  2]\n"
          ],
          "name": "stdout"
        }
      ]
    },
    {
      "cell_type": "code",
      "metadata": {
        "id": "P72UT_6amntA",
        "colab_type": "code",
        "colab": {
          "base_uri": "https://localhost:8080/",
          "height": 34
        },
        "outputId": "a8a4fb6b-a3fc-4c56-d4d7-9965aa557627"
      },
      "source": [
        "A + B"
      ],
      "execution_count": 56,
      "outputs": [
        {
          "output_type": "execute_result",
          "data": {
            "text/plain": [
              "array([6, 0, 7, 4])"
            ]
          },
          "metadata": {
            "tags": []
          },
          "execution_count": 56
        }
      ]
    },
    {
      "cell_type": "code",
      "metadata": {
        "id": "H4c18AApmozy",
        "colab_type": "code",
        "colab": {
          "base_uri": "https://localhost:8080/",
          "height": 34
        },
        "outputId": "9d7105eb-fd6f-49ba-9037-fca6bd288956"
      },
      "source": [
        "A - B"
      ],
      "execution_count": 57,
      "outputs": [
        {
          "output_type": "execute_result",
          "data": {
            "text/plain": [
              "array([0, 2, 1, 0])"
            ]
          },
          "metadata": {
            "tags": []
          },
          "execution_count": 57
        }
      ]
    },
    {
      "cell_type": "code",
      "metadata": {
        "id": "MQeD36GmmrU6",
        "colab_type": "code",
        "colab": {
          "base_uri": "https://localhost:8080/",
          "height": 34
        },
        "outputId": "28ccebb4-96e2-4b0b-da8d-42985cdb93c9"
      },
      "source": [
        "A * B"
      ],
      "execution_count": 58,
      "outputs": [
        {
          "output_type": "execute_result",
          "data": {
            "text/plain": [
              "array([ 9, -1, 12,  4])"
            ]
          },
          "metadata": {
            "tags": []
          },
          "execution_count": 58
        }
      ]
    },
    {
      "cell_type": "code",
      "metadata": {
        "id": "B2m8xew-m2MU",
        "colab_type": "code",
        "colab": {
          "base_uri": "https://localhost:8080/",
          "height": 34
        },
        "outputId": "ad189158-ec54-4115-e116-921ebb3bee45"
      },
      "source": [
        "A / 2"
      ],
      "execution_count": 59,
      "outputs": [
        {
          "output_type": "execute_result",
          "data": {
            "text/plain": [
              "array([1.5, 0.5, 2. , 1. ])"
            ]
          },
          "metadata": {
            "tags": []
          },
          "execution_count": 59
        }
      ]
    },
    {
      "cell_type": "code",
      "metadata": {
        "id": "CSvZApc_m66V",
        "colab_type": "code",
        "colab": {
          "base_uri": "https://localhost:8080/",
          "height": 34
        },
        "outputId": "a6cb7eec-28da-4a03-8974-c59c3bf80b26"
      },
      "source": [
        "A + 3 #doda stałą"
      ],
      "execution_count": 61,
      "outputs": [
        {
          "output_type": "execute_result",
          "data": {
            "text/plain": [
              "array([6, 4, 7, 5])"
            ]
          },
          "metadata": {
            "tags": []
          },
          "execution_count": 61
        }
      ]
    },
    {
      "cell_type": "code",
      "metadata": {
        "id": "71zx8Q_GnD4x",
        "colab_type": "code",
        "colab": {
          "base_uri": "https://localhost:8080/",
          "height": 34
        },
        "outputId": "7d3fa8f5-eb4c-4b64-83f4-95e46d21da22"
      },
      "source": [
        "A + 3*B"
      ],
      "execution_count": 63,
      "outputs": [
        {
          "output_type": "execute_result",
          "data": {
            "text/plain": [
              "array([12, -2, 13,  8])"
            ]
          },
          "metadata": {
            "tags": []
          },
          "execution_count": 63
        }
      ]
    },
    {
      "cell_type": "code",
      "metadata": {
        "id": "RhbYlQFxnIQg",
        "colab_type": "code",
        "colab": {
          "base_uri": "https://localhost:8080/",
          "height": 85
        },
        "outputId": "7d34ee05-66d5-4054-f41e-88e810d3185c"
      },
      "source": [
        "print(np.add(A, B))\n",
        "print(np.subtract(A, B))\n",
        "print(np.multiply(A, B))\n",
        "print(np.divide(A, B))\n"
      ],
      "execution_count": 65,
      "outputs": [
        {
          "output_type": "stream",
          "text": [
            "[6 0 7 4]\n",
            "[0 2 1 0]\n",
            "[ 9 -1 12  4]\n",
            "[ 1.         -1.          1.33333333  1.        ]\n"
          ],
          "name": "stdout"
        }
      ]
    },
    {
      "cell_type": "code",
      "metadata": {
        "id": "dpoCunExnX6y",
        "colab_type": "code",
        "colab": {
          "base_uri": "https://localhost:8080/",
          "height": 391
        },
        "outputId": "bb46e7b7-8d8b-4d05-b539-bf8041a84227"
      },
      "source": [
        "X = np.array([[1, 3], [-2, 0]])\n",
        "Y = np.array([[6, 0], [-1, 2]])\n",
        "\n",
        "print(\"Mnożenie element po elemencie\")\n",
        "print(X * Y)\n",
        "print('\\n')\n",
        "\n",
        "print(\"Mnożenie macieży\")\n",
        "print(np.dot(X, Y))\n",
        "print('\\n')\n",
        "print(np.dot(Y, X))\n",
        "print('\\n')\n",
        "print(X.dot(Y))\n",
        "print('\\n')\n",
        "print( X @ Y)\n",
        "print('\\n')"
      ],
      "execution_count": 76,
      "outputs": [
        {
          "output_type": "stream",
          "text": [
            "Mnożenie element po elemencie\n",
            "[[6 0]\n",
            " [2 0]]\n",
            "\n",
            "\n",
            "Mnożenie macieży\n",
            "[[  3   6]\n",
            " [-12   0]]\n",
            "\n",
            "\n",
            "[[ 6 18]\n",
            " [-5 -3]]\n",
            "\n",
            "\n",
            "[[  3   6]\n",
            " [-12   0]]\n",
            "\n",
            "\n",
            "[[  3   6]\n",
            " [-12   0]]\n",
            "\n",
            "\n"
          ],
          "name": "stdout"
        }
      ]
    },
    {
      "cell_type": "markdown",
      "metadata": {
        "id": "YGkTEh4togjh",
        "colab_type": "text"
      },
      "source": [
        "Generowanie liczb pseudolosowych"
      ]
    },
    {
      "cell_type": "code",
      "metadata": {
        "id": "sleWCF94JESm",
        "colab_type": "code",
        "colab": {}
      },
      "source": [
        "np.random.seed(0)"
      ],
      "execution_count": 0,
      "outputs": []
    },
    {
      "cell_type": "code",
      "metadata": {
        "id": "o_Qx15DKJL10",
        "colab_type": "code",
        "colab": {
          "base_uri": "https://localhost:8080/",
          "height": 34
        },
        "outputId": "2c1f5686-ce4f-48fb-9ff3-e8b7d871c979"
      },
      "source": [
        "np.random.randn()"
      ],
      "execution_count": 8,
      "outputs": [
        {
          "output_type": "execute_result",
          "data": {
            "text/plain": [
              "2.240893199201458"
            ]
          },
          "metadata": {
            "tags": []
          },
          "execution_count": 8
        }
      ]
    },
    {
      "cell_type": "code",
      "metadata": {
        "id": "5BdNyKZ9JYD8",
        "colab_type": "code",
        "colab": {
          "base_uri": "https://localhost:8080/",
          "height": 51
        },
        "outputId": "2091e144-490f-408f-ca53-e069f640f971"
      },
      "source": [
        "np.random.randn(10)"
      ],
      "execution_count": 10,
      "outputs": [
        {
          "output_type": "execute_result",
          "data": {
            "text/plain": [
              "array([ 0.44386323,  0.33367433,  1.49407907, -0.20515826,  0.3130677 ,\n",
              "       -0.85409574, -2.55298982,  0.6536186 ,  0.8644362 , -0.74216502])"
            ]
          },
          "metadata": {
            "tags": []
          },
          "execution_count": 10
        }
      ]
    },
    {
      "cell_type": "code",
      "metadata": {
        "id": "uFJePfq5JcRg",
        "colab_type": "code",
        "colab": {
          "base_uri": "https://localhost:8080/",
          "height": 187
        },
        "outputId": "fc5f60ab-f122-4127-e33a-89d34d90c770"
      },
      "source": [
        "np.random.randn(10, 4)"
      ],
      "execution_count": 12,
      "outputs": [
        {
          "output_type": "execute_result",
          "data": {
            "text/plain": [
              "array([[ 0.17742614, -0.40178094, -1.63019835,  0.46278226],\n",
              "       [-0.90729836,  0.0519454 ,  0.72909056,  0.12898291],\n",
              "       [ 1.13940068, -1.23482582,  0.40234164, -0.68481009],\n",
              "       [-0.87079715, -0.57884966, -0.31155253,  0.05616534],\n",
              "       [-1.16514984,  0.90082649,  0.46566244, -1.53624369],\n",
              "       [ 1.48825219,  1.89588918,  1.17877957, -0.17992484],\n",
              "       [-1.07075262,  1.05445173, -0.40317695,  1.22244507],\n",
              "       [ 0.20827498,  0.97663904,  0.3563664 ,  0.70657317],\n",
              "       [ 0.01050002,  1.78587049,  0.12691209,  0.40198936],\n",
              "       [ 1.8831507 , -1.34775906, -1.270485  ,  0.96939671]])"
            ]
          },
          "metadata": {
            "tags": []
          },
          "execution_count": 12
        }
      ]
    },
    {
      "cell_type": "code",
      "metadata": {
        "id": "eLtX0iIZJi5X",
        "colab_type": "code",
        "colab": {
          "base_uri": "https://localhost:8080/",
          "height": 34
        },
        "outputId": "5f6a59ae-8dc2-4b9f-9765-a5f632ed7df7"
      },
      "source": [
        "np.random.rand()"
      ],
      "execution_count": 14,
      "outputs": [
        {
          "output_type": "execute_result",
          "data": {
            "text/plain": [
              "0.42876870094576613"
            ]
          },
          "metadata": {
            "tags": []
          },
          "execution_count": 14
        }
      ]
    },
    {
      "cell_type": "code",
      "metadata": {
        "id": "QOhpAa0BJqBJ",
        "colab_type": "code",
        "colab": {
          "base_uri": "https://localhost:8080/",
          "height": 187
        },
        "outputId": "08bea9b9-adc7-4224-fbc9-ba8126d94db6"
      },
      "source": [
        "np.random.rand(10, 2)"
      ],
      "execution_count": 16,
      "outputs": [
        {
          "output_type": "execute_result",
          "data": {
            "text/plain": [
              "array([[0.16249293, 0.61555956],\n",
              "       [0.12381998, 0.84800823],\n",
              "       [0.80731896, 0.56910074],\n",
              "       [0.4071833 , 0.069167  ],\n",
              "       [0.69742877, 0.45354268],\n",
              "       [0.7220556 , 0.86638233],\n",
              "       [0.97552151, 0.85580334],\n",
              "       [0.01171408, 0.35997806],\n",
              "       [0.72999056, 0.17162968],\n",
              "       [0.52103661, 0.05433799]])"
            ]
          },
          "metadata": {
            "tags": []
          },
          "execution_count": 16
        }
      ]
    },
    {
      "cell_type": "code",
      "metadata": {
        "id": "J52W-JmeJu_g",
        "colab_type": "code",
        "colab": {
          "base_uri": "https://localhost:8080/",
          "height": 34
        },
        "outputId": "02faf3ae-a9b1-4d1c-9f93-4a7719611d7b"
      },
      "source": [
        "np.random.randint(10)"
      ],
      "execution_count": 25,
      "outputs": [
        {
          "output_type": "execute_result",
          "data": {
            "text/plain": [
              "1"
            ]
          },
          "metadata": {
            "tags": []
          },
          "execution_count": 25
        }
      ]
    },
    {
      "cell_type": "code",
      "metadata": {
        "id": "mSQtBAtVJ1Bn",
        "colab_type": "code",
        "colab": {
          "base_uri": "https://localhost:8080/",
          "height": 51
        },
        "outputId": "98505177-e9f6-4ec3-9682-295d71a61345"
      },
      "source": [
        "np.random.randint(low=10, high=101, size=(2, 4))"
      ],
      "execution_count": 30,
      "outputs": [
        {
          "output_type": "execute_result",
          "data": {
            "text/plain": [
              "array([[54, 23, 80, 48],\n",
              "       [49, 18, 23, 17]])"
            ]
          },
          "metadata": {
            "tags": []
          },
          "execution_count": 30
        }
      ]
    },
    {
      "cell_type": "code",
      "metadata": {
        "id": "4ZmmM34BKGZL",
        "colab_type": "code",
        "colab": {
          "base_uri": "https://localhost:8080/",
          "height": 34
        },
        "outputId": "7a0fedfd-faf6-4406-8a6f-0a8c799bef73"
      },
      "source": [
        "np.random.choice([4, 2, 4, 6])"
      ],
      "execution_count": 39,
      "outputs": [
        {
          "output_type": "execute_result",
          "data": {
            "text/plain": [
              "4"
            ]
          },
          "metadata": {
            "tags": []
          },
          "execution_count": 39
        }
      ]
    },
    {
      "cell_type": "code",
      "metadata": {
        "id": "yyGO5zCHKMOk",
        "colab_type": "code",
        "colab": {
          "base_uri": "https://localhost:8080/",
          "height": 34
        },
        "outputId": "57fe4229-2764-491d-93c3-32901bc80c86"
      },
      "source": [
        "np.random.choice(['python', 'java', 'sql'])"
      ],
      "execution_count": 41,
      "outputs": [
        {
          "output_type": "execute_result",
          "data": {
            "text/plain": [
              "'python'"
            ]
          },
          "metadata": {
            "tags": []
          },
          "execution_count": 41
        }
      ]
    },
    {
      "cell_type": "code",
      "metadata": {
        "id": "NCB4ynT8KSne",
        "colab_type": "code",
        "colab": {
          "base_uri": "https://localhost:8080/",
          "height": 51
        },
        "outputId": "0d7f5537-5e89-4e9e-856e-c0d8515d1736"
      },
      "source": [
        "data = np.arange(10)\n",
        "print(data)\n",
        "\n",
        "np.random.shuffle(data)\n",
        "print(data)"
      ],
      "execution_count": 46,
      "outputs": [
        {
          "output_type": "stream",
          "text": [
            "[0 1 2 3 4 5 6 7 8 9]\n",
            "[2 8 7 5 6 1 4 9 3 0]\n"
          ],
          "name": "stdout"
        }
      ]
    },
    {
      "cell_type": "markdown",
      "metadata": {
        "id": "9zH7Hrx0Kxho",
        "colab_type": "text"
      },
      "source": [
        "**Podstawowe funkcje z numpy**"
      ]
    },
    {
      "cell_type": "code",
      "metadata": {
        "id": "Ijp2TCu2K1Gq",
        "colab_type": "code",
        "colab": {
          "base_uri": "https://localhost:8080/",
          "height": 34
        },
        "outputId": "90f9db66-6b45-482f-e325-fc12d5ba74db"
      },
      "source": [
        "np.exp(1) #exponent"
      ],
      "execution_count": 48,
      "outputs": [
        {
          "output_type": "execute_result",
          "data": {
            "text/plain": [
              "2.718281828459045"
            ]
          },
          "metadata": {
            "tags": []
          },
          "execution_count": 48
        }
      ]
    },
    {
      "cell_type": "code",
      "metadata": {
        "id": "EQE4epwuLBbD",
        "colab_type": "code",
        "colab": {
          "base_uri": "https://localhost:8080/",
          "height": 34
        },
        "outputId": "7a3f867c-df58-4b93-b770-dfaae2d1b914"
      },
      "source": [
        "np.sqrt(9)"
      ],
      "execution_count": 49,
      "outputs": [
        {
          "output_type": "execute_result",
          "data": {
            "text/plain": [
              "3.0"
            ]
          },
          "metadata": {
            "tags": []
          },
          "execution_count": 49
        }
      ]
    },
    {
      "cell_type": "code",
      "metadata": {
        "id": "9suzgOnALHSg",
        "colab_type": "code",
        "colab": {
          "base_uri": "https://localhost:8080/",
          "height": 51
        },
        "outputId": "5cc9323d-ebab-4208-cd65-210d8a20d3eb"
      },
      "source": [
        "print( np.all([2, 3, 0 ,2]) ) #paczy czy każdy element zwraca true\n",
        "print( np.any([0, 0, 0, 0]) ) #paczy  czy którykowliek jest true "
      ],
      "execution_count": 53,
      "outputs": [
        {
          "output_type": "stream",
          "text": [
            "False\n",
            "False\n"
          ],
          "name": "stdout"
        }
      ]
    },
    {
      "cell_type": "code",
      "metadata": {
        "id": "jK8EL_xqLoEn",
        "colab_type": "code",
        "colab": {
          "base_uri": "https://localhost:8080/",
          "height": 170
        },
        "outputId": "7e3b7bc2-8467-4bea-de2b-f04f28771d5d"
      },
      "source": [
        "A = np.random.rand(5)\n",
        "print(A)\n",
        "\n",
        "max_index = np.argmax(A)\n",
        "print(f'Max index to {max_index}')\n",
        "\n",
        "min_index = np.argmin(A)\n",
        "print(f'Min index to {min_index}')\n",
        "\n",
        "print(\"Zwraca indexy od max do min: \", np.argsort(A))\n",
        "\n",
        "print(np.max(A))\n",
        "print(np.min(A))\n",
        "print(np.mean(A))\n",
        "print(np.median(A))\n",
        "print(np.std(A))"
      ],
      "execution_count": 59,
      "outputs": [
        {
          "output_type": "stream",
          "text": [
            "[0.09654961 0.25613958 0.59193516 0.4764772  0.48793457]\n",
            "Max index to 2\n",
            "Min index to 0\n",
            "Zwraca indexy od max do min:  [0 1 3 4 2]\n",
            "0.5919351581884497\n",
            "0.09654960982745808\n",
            "0.38180722299352554\n",
            "0.47647720054983067\n",
            "0.1797461712426575\n"
          ],
          "name": "stdout"
        }
      ]
    },
    {
      "cell_type": "markdown",
      "metadata": {
        "id": "Jlla9HJiMiT9",
        "colab_type": "text"
      },
      "source": [
        "**Indeksowanie, Wycinanie**"
      ]
    },
    {
      "cell_type": "code",
      "metadata": {
        "id": "x7AccdnQLwq8",
        "colab_type": "code",
        "colab": {
          "base_uri": "https://localhost:8080/",
          "height": 289
        },
        "outputId": "64c41fe0-5b82-4498-fb1c-00cfc61ad848"
      },
      "source": [
        "A = np.arange(20)\n",
        "print(A)\n",
        "\n",
        "# A[startIndex: endIndex: step]\n",
        "# A[ :stopIndex]\n",
        "# A[startIndex: ]\n",
        "\n",
        "print(A[2])\n",
        "print(A[2:])\n",
        "print(A[:2])\n",
        "print(A[[0,2]])\n",
        "\n",
        "print(A[-1])\n",
        "\n",
        "\n",
        "A = A.reshape(4, -1)\n",
        "print(A)\n",
        "print(\"wycina wiersz \", A[0]) #wycina wiersz\n",
        "print(\"wycina wiersz \", A[1])\n",
        "\n",
        "print(\"wycina kolumne \", A[:, 0]) #wycina kolumne\n",
        "print(\"wycina konkret \", A[1,1]) #wytnie konkretny index\n",
        "\n",
        "print(\"wycina konkretne \", A[1:3, 2:4]) #wytnie konkretne indexy\n",
        "\n"
      ],
      "execution_count": 71,
      "outputs": [
        {
          "output_type": "stream",
          "text": [
            "[ 0  1  2  3  4  5  6  7  8  9 10 11 12 13 14 15 16 17 18 19]\n",
            "2\n",
            "[ 2  3  4  5  6  7  8  9 10 11 12 13 14 15 16 17 18 19]\n",
            "[0 1]\n",
            "[0 2]\n",
            "19\n",
            "[[ 0  1  2  3  4]\n",
            " [ 5  6  7  8  9]\n",
            " [10 11 12 13 14]\n",
            " [15 16 17 18 19]]\n",
            "wycina wiersz  [0 1 2 3 4]\n",
            "wycina wiersz  [5 6 7 8 9]\n",
            "wycina kolumne  [ 0  5 10 15]\n",
            "wycina konkret  6\n",
            "wycina konkret  [[ 7  8]\n",
            " [12 13]]\n"
          ],
          "name": "stdout"
        }
      ]
    },
    {
      "cell_type": "markdown",
      "metadata": {
        "id": "9gBrZs_xN-0e",
        "colab_type": "text"
      },
      "source": [
        "**Iteracje po tablicach**"
      ]
    },
    {
      "cell_type": "code",
      "metadata": {
        "id": "Gudx5WOPOD4q",
        "colab_type": "code",
        "colab": {
          "base_uri": "https://localhost:8080/",
          "height": 527
        },
        "outputId": "65a079f9-3f57-455f-9452-19213cc59283"
      },
      "source": [
        "for row in A:\n",
        "  print(row)\n",
        "\n",
        "print()\n",
        "\n",
        "for row in A:\n",
        "  print(row[0])\n",
        "\n",
        "print()\n",
        "\n",
        "for row in A.flat: #wyplaszcza cala  tablice do jednego wymiaru\n",
        "  print(row)"
      ],
      "execution_count": 76,
      "outputs": [
        {
          "output_type": "stream",
          "text": [
            "[0 1 2 3 4]\n",
            "[5 6 7 8 9]\n",
            "[10 11 12 13 14]\n",
            "[15 16 17 18 19]\n",
            "\n",
            "0\n",
            "5\n",
            "10\n",
            "15\n",
            "\n",
            "0\n",
            "1\n",
            "2\n",
            "3\n",
            "4\n",
            "5\n",
            "6\n",
            "7\n",
            "8\n",
            "9\n",
            "10\n",
            "11\n",
            "12\n",
            "13\n",
            "14\n",
            "15\n",
            "16\n",
            "17\n",
            "18\n",
            "19\n"
          ],
          "name": "stdout"
        }
      ]
    },
    {
      "cell_type": "markdown",
      "metadata": {
        "id": "VcMFfgKgOaup",
        "colab_type": "text"
      },
      "source": [
        "**Zmiana rozmiaru tablic**"
      ]
    },
    {
      "cell_type": "code",
      "metadata": {
        "id": "AnwpR3HlOd97",
        "colab_type": "code",
        "colab": {
          "base_uri": "https://localhost:8080/",
          "height": 119
        },
        "outputId": "6226533c-5e94-4093-e655-71bb5955aee8"
      },
      "source": [
        "print(A.shape)\n",
        "\n",
        "A.reshape(5, 4)\n",
        "\n",
        "A.ravel() #splaszcza do jednego wymiaru\n",
        "\n",
        "A.T #zmienia kolumne na wiersz i wiersz na kolumne\n"
      ],
      "execution_count": 82,
      "outputs": [
        {
          "output_type": "stream",
          "text": [
            "(4, 5)\n"
          ],
          "name": "stdout"
        },
        {
          "output_type": "execute_result",
          "data": {
            "text/plain": [
              "array([[ 0,  5, 10, 15],\n",
              "       [ 1,  6, 11, 16],\n",
              "       [ 2,  7, 12, 17],\n",
              "       [ 3,  8, 13, 18],\n",
              "       [ 4,  9, 14, 19]])"
            ]
          },
          "metadata": {
            "tags": []
          },
          "execution_count": 82
        }
      ]
    },
    {
      "cell_type": "markdown",
      "metadata": {
        "id": "KRGtb4QmOzld",
        "colab_type": "text"
      },
      "source": [
        "**Maski logiczne**"
      ]
    },
    {
      "cell_type": "code",
      "metadata": {
        "id": "EtqU7FBQO1an",
        "colab_type": "code",
        "colab": {
          "base_uri": "https://localhost:8080/",
          "height": 238
        },
        "outputId": "9d6452f3-f286-46c9-a230-68dc660f5c68"
      },
      "source": [
        "A = np.arange(start=-10, stop=10, step=0.5)\n",
        "A = A.reshape(10, -1)\n",
        "\n",
        "for row in A:\n",
        "  print(row)\n",
        "\n",
        "A > 0\n",
        "\n",
        "# A[A > 5 and A < -5]\n",
        "np.bitwise_and(A > -5, A < 5)\n",
        "\n",
        "A[np.bitwise_and(A > -5, A < 5)]\n",
        "\n",
        "A[np.bitwise_or(A < -5, A > 5)]"
      ],
      "execution_count": 91,
      "outputs": [
        {
          "output_type": "stream",
          "text": [
            "[-10.   -9.5  -9.   -8.5]\n",
            "[-8.  -7.5 -7.  -6.5]\n",
            "[-6.  -5.5 -5.  -4.5]\n",
            "[-4.  -3.5 -3.  -2.5]\n",
            "[-2.  -1.5 -1.  -0.5]\n",
            "[0.  0.5 1.  1.5]\n",
            "[2.  2.5 3.  3.5]\n",
            "[4.  4.5 5.  5.5]\n",
            "[6.  6.5 7.  7.5]\n",
            "[8.  8.5 9.  9.5]\n"
          ],
          "name": "stdout"
        },
        {
          "output_type": "execute_result",
          "data": {
            "text/plain": [
              "array([-10. ,  -9.5,  -9. ,  -8.5,  -8. ,  -7.5,  -7. ,  -6.5,  -6. ,\n",
              "        -5.5,   5.5,   6. ,   6.5,   7. ,   7.5,   8. ,   8.5,   9. ,\n",
              "         9.5])"
            ]
          },
          "metadata": {
            "tags": []
          },
          "execution_count": 91
        }
      ]
    }
  ]
}