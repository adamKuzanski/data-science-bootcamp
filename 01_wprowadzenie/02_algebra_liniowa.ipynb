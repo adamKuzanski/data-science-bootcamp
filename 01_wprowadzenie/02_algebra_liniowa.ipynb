{
  "nbformat": 4,
  "nbformat_minor": 0,
  "metadata": {
    "colab": {
      "name": "02_algebra_liniowa.ipynb",
      "provenance": [],
      "collapsed_sections": [],
      "authorship_tag": "ABX9TyMX1h8rmqv0agsrX7myINOO",
      "include_colab_link": true
    },
    "kernelspec": {
      "name": "python3",
      "display_name": "Python 3"
    }
  },
  "cells": [
    {
      "cell_type": "markdown",
      "metadata": {
        "id": "view-in-github",
        "colab_type": "text"
      },
      "source": [
        "<a href=\"https://colab.research.google.com/github/adamKuzanski/data-science-bootcamp/blob/master/01_wprowadzenie/02_algebra_liniowa.ipynb\" target=\"_parent\"><img src=\"https://colab.research.google.com/assets/colab-badge.svg\" alt=\"Open In Colab\"/></a>"
      ]
    },
    {
      "cell_type": "markdown",
      "metadata": {
        "id": "o6pK2nuOQNwP",
        "colab_type": "text"
      },
      "source": [
        "**Norma wektora, dlugosc wektora**"
      ]
    },
    {
      "cell_type": "code",
      "metadata": {
        "id": "lLLPsrDTQHvQ",
        "colab_type": "code",
        "colab": {
          "base_uri": "https://localhost:8080/",
          "height": 51
        },
        "outputId": "539b5001-0d11-48a0-bd34-df6e9c56ca58"
      },
      "source": [
        "import numpy as np\n",
        "\n",
        "v1 = np.array([0, 4])\n",
        "print('Norma wektora 2D: ', np.linalg.norm(v1))\n",
        "\n",
        "v2 = np.array([-10, 10, 13])\n",
        "print('Norma wektora 3D: ', np.linalg.norm(v2))"
      ],
      "execution_count": 3,
      "outputs": [
        {
          "output_type": "stream",
          "text": [
            "Norma wektora 2D:  4.0\n",
            "Norma wektora 3D:  19.209372712298546\n"
          ],
          "name": "stdout"
        }
      ]
    },
    {
      "cell_type": "markdown",
      "metadata": {
        "id": "kZHCB4uERQQ7",
        "colab_type": "text"
      },
      "source": [
        "**Odleglosc 2 punktow na plaszczyznie lub przestrzeni**"
      ]
    },
    {
      "cell_type": "code",
      "metadata": {
        "id": "7hI4pSSSRMrp",
        "colab_type": "code",
        "colab": {
          "base_uri": "https://localhost:8080/",
          "height": 51
        },
        "outputId": "fc620191-0cca-44ba-d6e5-4cf5de252887"
      },
      "source": [
        "p1 = np.array([3, 0])\n",
        "p2 = np.array([0, 4])\n",
        "print('Odleglosc 2 punktow w 2D to: ', np.linalg.norm(p1 - p2)) #odejmowanie tworzzy wektor\n",
        "\n",
        "p1 = np.array([3, 0, 1])\n",
        "p2 = np.array([0, 4, 2])\n",
        "print('Odleglosc 2 punktow w 3D to: ', np.linalg.norm(p1 - p2)) #odejmowanie tworzzy wektor\n"
      ],
      "execution_count": 5,
      "outputs": [
        {
          "output_type": "stream",
          "text": [
            "Odleglosc 2 punktow w 2D to:  5.0\n",
            "Odleglosc 2 punktow w 3D to:  5.0990195135927845\n"
          ],
          "name": "stdout"
        }
      ]
    },
    {
      "cell_type": "markdown",
      "metadata": {
        "id": "jBgDhig9RyT2",
        "colab_type": "text"
      },
      "source": [
        "**Mnozenie macierzy**"
      ]
    },
    {
      "cell_type": "code",
      "metadata": {
        "id": "uGD8mLitR3TT",
        "colab_type": "code",
        "colab": {
          "base_uri": "https://localhost:8080/",
          "height": 340
        },
        "outputId": "85e6c618-f347-43c3-d584-285cc2ceee66"
      },
      "source": [
        "#Przyklad 1\n",
        "X = np.array([[5, 3],  [3, 9]])\n",
        "Y = np.array([[1], [-1]])\n",
        "\n",
        "print(X, '\\n')\n",
        "print(Y, '\\n')\n",
        "\n",
        "Z = np.dot(X, Y)\n",
        "print(Z.shape)\n",
        "print()\n",
        "print(Z)\n",
        "\n",
        "\n",
        "#Przyklad 2\n",
        "X = np.array([[2, -1, 3], \n",
        "              [3, 1, 0]])\n",
        "Y  = np.array([[2, 1, -1],\n",
        "               [0, -1, 2],\n",
        "               [3, 2, 0]])\n",
        "\n",
        "print(X)\n",
        "print()\n",
        "print(Y)\n",
        "\n",
        "print(\"Wynik mnożenia:\\n\", X.dot(Y))"
      ],
      "execution_count": 12,
      "outputs": [
        {
          "output_type": "stream",
          "text": [
            "[[5 3]\n",
            " [3 9]] \n",
            "\n",
            "[[ 1]\n",
            " [-1]] \n",
            "\n",
            "(2, 1)\n",
            "\n",
            "[[ 2]\n",
            " [-6]]\n",
            "[[ 2 -1  3]\n",
            " [ 3  1  0]]\n",
            "\n",
            "[[ 2  1 -1]\n",
            " [ 0 -1  2]\n",
            " [ 3  2  0]]\n",
            "Wynik mnożenia:\n",
            " [[13  9 -4]\n",
            " [ 6  2 -1]]\n"
          ],
          "name": "stdout"
        }
      ]
    },
    {
      "cell_type": "markdown",
      "metadata": {
        "id": "RrWZKrz5Tp8P",
        "colab_type": "text"
      },
      "source": [
        "**Wyznacznik Macierzy**"
      ]
    },
    {
      "cell_type": "code",
      "metadata": {
        "id": "fT6kIwWsTs7V",
        "colab_type": "code",
        "colab": {
          "base_uri": "https://localhost:8080/",
          "height": 34
        },
        "outputId": "fe38ed04-b113-4e97-8edf-de3c6019886b"
      },
      "source": [
        "A = np.array([[2,4], [-1, 3]])\n",
        "round(np.linalg.det(A))"
      ],
      "execution_count": 15,
      "outputs": [
        {
          "output_type": "execute_result",
          "data": {
            "text/plain": [
              "9.999999999999998"
            ]
          },
          "metadata": {
            "tags": []
          },
          "execution_count": 15
        }
      ]
    },
    {
      "cell_type": "markdown",
      "metadata": {
        "id": "sC0QeRY5Ul4V",
        "colab_type": "text"
      },
      "source": [
        "**Ślad Macierzy**"
      ]
    },
    {
      "cell_type": "code",
      "metadata": {
        "id": "51CkxzFBUo8X",
        "colab_type": "code",
        "colab": {
          "base_uri": "https://localhost:8080/",
          "height": 34
        },
        "outputId": "5f2d60fd-1eb8-4b97-8f21-6f5d97cfe04f"
      },
      "source": [
        "A = np.array([[2,4], [-1, 3]])\n",
        "np.trace(A)"
      ],
      "execution_count": 16,
      "outputs": [
        {
          "output_type": "execute_result",
          "data": {
            "text/plain": [
              "5"
            ]
          },
          "metadata": {
            "tags": []
          },
          "execution_count": 16
        }
      ]
    },
    {
      "cell_type": "markdown",
      "metadata": {
        "id": "Wgx2XncHUwrw",
        "colab_type": "text"
      },
      "source": [
        "**Macierz jednostkowa**"
      ]
    },
    {
      "cell_type": "code",
      "metadata": {
        "id": "SxI-TkKWU0cp",
        "colab_type": "code",
        "colab": {
          "base_uri": "https://localhost:8080/",
          "height": 102
        },
        "outputId": "56def4bf-871f-4329-92e9-54699e3d5be7"
      },
      "source": [
        "np.eye(5, dtype=int)"
      ],
      "execution_count": 21,
      "outputs": [
        {
          "output_type": "execute_result",
          "data": {
            "text/plain": [
              "array([[1, 0, 0, 0, 0],\n",
              "       [0, 1, 0, 0, 0],\n",
              "       [0, 0, 1, 0, 0],\n",
              "       [0, 0, 0, 1, 0],\n",
              "       [0, 0, 0, 0, 1]])"
            ]
          },
          "metadata": {
            "tags": []
          },
          "execution_count": 21
        }
      ]
    },
    {
      "cell_type": "markdown",
      "metadata": {
        "id": "aLouUQUqVBFU",
        "colab_type": "text"
      },
      "source": [
        "**Macierz odwrotna**"
      ]
    },
    {
      "cell_type": "code",
      "metadata": {
        "id": "pBr3dJilVAb6",
        "colab_type": "code",
        "colab": {
          "base_uri": "https://localhost:8080/",
          "height": 85
        },
        "outputId": "9ae43c87-9c54-4de9-c8dc-29cfddea808e"
      },
      "source": [
        "A = np.array([[2, 4], [-1, 3]])\n",
        "B = np.linalg.inv(A)\n",
        "\n",
        "np.set_printoptions(precision=4, suppress=True)\n",
        "\n",
        "print(B)\n",
        "np.dot(A,B)\n",
        "\n"
      ],
      "execution_count": 26,
      "outputs": [
        {
          "output_type": "stream",
          "text": [
            "[[ 0.3 -0.4]\n",
            " [ 0.1  0.2]]\n"
          ],
          "name": "stdout"
        },
        {
          "output_type": "execute_result",
          "data": {
            "text/plain": [
              "array([[1., 0.],\n",
              "       [0., 1.]])"
            ]
          },
          "metadata": {
            "tags": []
          },
          "execution_count": 26
        }
      ]
    },
    {
      "cell_type": "markdown",
      "metadata": {
        "id": "kemo_bJaVjhQ",
        "colab_type": "text"
      },
      "source": [
        "**Macierz transponowana** - zamiana wierszy na klumny i kolumny na wiersze\n"
      ]
    },
    {
      "cell_type": "code",
      "metadata": {
        "id": "2t34qUqgVnQy",
        "colab_type": "code",
        "colab": {
          "base_uri": "https://localhost:8080/",
          "height": 119
        },
        "outputId": "78e18af0-88e6-4289-be9f-cdc0b71d5a4f"
      },
      "source": [
        "print(A)\n",
        "B = np.transpose(A)\n",
        "print(B)\n",
        "print(A.T)\n"
      ],
      "execution_count": 29,
      "outputs": [
        {
          "output_type": "stream",
          "text": [
            "[[ 2  4]\n",
            " [-1  3]]\n",
            "[[ 2 -1]\n",
            " [ 4  3]]\n",
            "[[ 2 -1]\n",
            " [ 4  3]]\n"
          ],
          "name": "stdout"
        }
      ]
    },
    {
      "cell_type": "markdown",
      "metadata": {
        "id": "1rbS6_IWV6lE",
        "colab_type": "text"
      },
      "source": [
        "## **Rozwiązywanie układów równań**"
      ]
    },
    {
      "cell_type": "code",
      "metadata": {
        "id": "ZV1Sg_K8V-8P",
        "colab_type": "code",
        "colab": {
          "base_uri": "https://localhost:8080/",
          "height": 119
        },
        "outputId": "1f9671f5-0b99-4002-c1ed-7495ba8054c0"
      },
      "source": [
        "A = np.array([[2, 4], [1, -1]])\n",
        "print(A)\n",
        "B = np.array([[10], [-1]])\n",
        "print(B)\n",
        "\n",
        "A_inv = np.linalg.inv(A)\n",
        "X = A_inv @ B\n",
        "\n",
        "print(X)"
      ],
      "execution_count": 36,
      "outputs": [
        {
          "output_type": "stream",
          "text": [
            "[[ 2  4]\n",
            " [ 1 -1]]\n",
            "[[10]\n",
            " [-1]]\n",
            "[[1.]\n",
            " [2.]]\n"
          ],
          "name": "stdout"
        }
      ]
    }
  ]
}