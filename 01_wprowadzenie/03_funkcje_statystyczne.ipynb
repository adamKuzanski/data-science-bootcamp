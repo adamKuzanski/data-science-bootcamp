{
  "nbformat": 4,
  "nbformat_minor": 0,
  "metadata": {
    "colab": {
      "name": "03_funkcje_statystyczne.ipynb",
      "provenance": [],
      "authorship_tag": "ABX9TyM6bbpx1wiSkxm4U025U16P",
      "include_colab_link": true
    },
    "kernelspec": {
      "name": "python3",
      "display_name": "Python 3"
    }
  },
  "cells": [
    {
      "cell_type": "markdown",
      "metadata": {
        "id": "view-in-github",
        "colab_type": "text"
      },
      "source": [
        "<a href=\"https://colab.research.google.com/github/adamKuzanski/data-science-bootcamp/blob/master/01_wprowadzenie/03_funkcje_statystyczne.ipynb\" target=\"_parent\"><img src=\"https://colab.research.google.com/assets/colab-badge.svg\" alt=\"Open In Colab\"/></a>"
      ]
    },
    {
      "cell_type": "code",
      "metadata": {
        "id": "khuw2ZitXmWu",
        "colab_type": "code",
        "colab": {
          "base_uri": "https://localhost:8080/",
          "height": 68
        },
        "outputId": "8939b9d2-69a0-4520-d355-a3f8bc5aed11"
      },
      "source": [
        "import numpy as np\n",
        "\n",
        "price = np.array([[12.40, 12.80, 11.90, 12.60, 1000],\n",
        "                  [12.50, 13.00, 11.70, 12.20, 2000],\n",
        "                  [12.20, 13.40, 12.20, 13.20, 1500]])\n",
        "print(price)"
      ],
      "execution_count": 1,
      "outputs": [
        {
          "output_type": "stream",
          "text": [
            "[[  12.4   12.8   11.9   12.6 1000. ]\n",
            " [  12.5   13.    11.7   12.2 2000. ]\n",
            " [  12.2   13.4   12.2   13.2 1500. ]]\n"
          ],
          "name": "stdout"
        }
      ]
    },
    {
      "cell_type": "code",
      "metadata": {
        "id": "Knnva1M4YRNr",
        "colab_type": "code",
        "colab": {
          "base_uri": "https://localhost:8080/",
          "height": 170
        },
        "outputId": "87968838-c5a7-4316-8ca6-e947e7576c5c"
      },
      "source": [
        "#sum()\n",
        "\n",
        "print( price.sum() ) #suma wszystkich elementów\n",
        "print( price.sum(axis=0) ) #suma każdej kolumny\n",
        "print( price.sum(axis=1) ) #suma każdefgo wiersza\n",
        "print( np.sum(price, axis=0) ) #suma każdej kolumny uruchomiona inaczej, PREFEROWANY ZAPIS\n",
        "\n",
        "#min()\n",
        "print( np.min(price) )\n",
        "print( np.min(price, axis=0) )\n",
        "print( np.min(price, axis=1) )\n",
        "\n",
        "\n",
        "#median()\n",
        "\n",
        "#mean()\n",
        "\n",
        "#std()\n",
        "\n",
        "#var()\n",
        "np.var(price, axis=0)\n",
        "\n"
      ],
      "execution_count": 10,
      "outputs": [
        {
          "output_type": "stream",
          "text": [
            "4650.1\n",
            "[  37.1   39.2   35.8   38.  4500. ]\n",
            "[1049.7 2049.4 1551. ]\n",
            "[  37.1   39.2   35.8   38.  4500. ]\n",
            "11.7\n",
            "[  12.2   12.8   11.7   12.2 1000. ]\n",
            "[11.9 11.7 12.2]\n"
          ],
          "name": "stdout"
        },
        {
          "output_type": "execute_result",
          "data": {
            "text/plain": [
              "array([1.55555556e-02, 6.22222222e-02, 4.22222222e-02, 1.68888889e-01,\n",
              "       1.66666667e+05])"
            ]
          },
          "metadata": {
            "tags": []
          },
          "execution_count": 10
        }
      ]
    }
  ]
}